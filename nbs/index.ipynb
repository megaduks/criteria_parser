{
 "cells": [
  {
   "cell_type": "markdown",
   "metadata": {},
   "source": [
    "# eligibility_criteria_parser\n",
    "\n",
    "> Repository with experiments on the usability of prompt learning for parsing eligibility criteria in clinical trials"
   ]
  },
  {
   "cell_type": "markdown",
   "metadata": {},
   "source": [
    "## Install\n",
    "\n",
    "In order to install the module issue the following commands"
   ]
  },
  {
   "cell_type": "markdown",
   "metadata": {},
   "source": [
    "```sh\n",
    "bash$ git clone https://github.com/megaduks/criteria_parser.git\n",
    "\n",
    "bash$ cd criteria_parser\n",
    "\n",
    "bash$ pip install -r requirements.txt\n",
    "\n",
    "bash$ pip install -e '.[dev]'\n",
    "```"
   ]
  },
  {
   "cell_type": "markdown",
   "metadata": {},
   "source": [
    "The next step is to run `dvc` to download the data"
   ]
  },
  {
   "cell_type": "markdown",
   "metadata": {},
   "source": [
    "```bash\n",
    "bash$ dvc pull\n",
    "```"
   ]
  },
  {
   "cell_type": "markdown",
   "metadata": {},
   "source": [
    "## How to use"
   ]
  },
  {
   "cell_type": "markdown",
   "metadata": {},
   "source": [
    "Here is how you can load the Chia dataset for easy processing"
   ]
  },
  {
   "cell_type": "code",
   "execution_count": null,
   "metadata": {},
   "outputs": [],
   "source": [
    "from eligibility_criteria_parser.core import *\n",
    "\n",
    "df = load_eligibility_criteria()"
   ]
  },
  {
   "cell_type": "code",
   "execution_count": null,
   "metadata": {},
   "outputs": [
    {
     "data": {
      "text/html": [
       "<div>\n",
       "<style scoped>\n",
       "    .dataframe tbody tr th:only-of-type {\n",
       "        vertical-align: middle;\n",
       "    }\n",
       "\n",
       "    .dataframe tbody tr th {\n",
       "        vertical-align: top;\n",
       "    }\n",
       "\n",
       "    .dataframe thead th {\n",
       "        text-align: right;\n",
       "    }\n",
       "</style>\n",
       "<table border=\"1\" class=\"dataframe\">\n",
       "  <thead>\n",
       "    <tr style=\"text-align: right;\">\n",
       "      <th></th>\n",
       "      <th>ct_no</th>\n",
       "      <th>criteria</th>\n",
       "      <th>mode</th>\n",
       "      <th>drugs</th>\n",
       "      <th>persons</th>\n",
       "      <th>procedures</th>\n",
       "      <th>conditions</th>\n",
       "      <th>devices</th>\n",
       "      <th>visits</th>\n",
       "      <th>scopes</th>\n",
       "      <th>observations</th>\n",
       "      <th>measurements</th>\n",
       "    </tr>\n",
       "  </thead>\n",
       "  <tbody>\n",
       "    <tr>\n",
       "      <th>0</th>\n",
       "      <td>NCT03124329</td>\n",
       "      <td>Male and female individuals between ages of 18...</td>\n",
       "      <td>inclusion</td>\n",
       "      <td>None</td>\n",
       "      <td>[ages]</td>\n",
       "      <td>None</td>\n",
       "      <td>[gingival recession defects, recession defects]</td>\n",
       "      <td>None</td>\n",
       "      <td>None</td>\n",
       "      <td>None</td>\n",
       "      <td>[cervical restorations extending to the CEJ]</td>\n",
       "      <td>[recession, keratinized gingiva, Miller]</td>\n",
       "    </tr>\n",
       "    <tr>\n",
       "      <th>1</th>\n",
       "      <td>NCT02796378</td>\n",
       "      <td>Elevated blood-cholesterol</td>\n",
       "      <td>inclusion</td>\n",
       "      <td>None</td>\n",
       "      <td>None</td>\n",
       "      <td>None</td>\n",
       "      <td>None</td>\n",
       "      <td>None</td>\n",
       "      <td>None</td>\n",
       "      <td>None</td>\n",
       "      <td>None</td>\n",
       "      <td>[blood-cholesterol]</td>\n",
       "    </tr>\n",
       "    <tr>\n",
       "      <th>2</th>\n",
       "      <td>NCT03216967</td>\n",
       "      <td>Adult patients Kidney transplant recipients Pa...</td>\n",
       "      <td>inclusion</td>\n",
       "      <td>[calcineurin inhibitor, mycophenolic acid]</td>\n",
       "      <td>[Adult]</td>\n",
       "      <td>None</td>\n",
       "      <td>None</td>\n",
       "      <td>None</td>\n",
       "      <td>None</td>\n",
       "      <td>None</td>\n",
       "      <td>None</td>\n",
       "      <td>[Viremia, pregnancy test, blood ß-HCG dosage]</td>\n",
       "    </tr>\n",
       "    <tr>\n",
       "      <th>3</th>\n",
       "      <td>NCT02200978</td>\n",
       "      <td>Patients less than 16 years old with newly dia...</td>\n",
       "      <td>inclusion</td>\n",
       "      <td>None</td>\n",
       "      <td>[old]</td>\n",
       "      <td>None</td>\n",
       "      <td>[acute promyelocytic leukemia]</td>\n",
       "      <td>None</td>\n",
       "      <td>None</td>\n",
       "      <td>None</td>\n",
       "      <td>None</td>\n",
       "      <td>[PML-RARa]</td>\n",
       "    </tr>\n",
       "    <tr>\n",
       "      <th>4</th>\n",
       "      <td>NCT01314898</td>\n",
       "      <td>Male and/or female healthy volunteers, age 18 ...</td>\n",
       "      <td>inclusion</td>\n",
       "      <td>None</td>\n",
       "      <td>[Male, female, age, Females]</td>\n",
       "      <td>None</td>\n",
       "      <td>[healthy, childbearing potential]</td>\n",
       "      <td>None</td>\n",
       "      <td>None</td>\n",
       "      <td>None</td>\n",
       "      <td>None</td>\n",
       "      <td>[Body Mass Index (BMI), total body weight]</td>\n",
       "    </tr>\n",
       "  </tbody>\n",
       "</table>\n",
       "</div>"
      ],
      "text/plain": [
       "         ct_no                                           criteria       mode  \\\n",
       "0  NCT03124329  Male and female individuals between ages of 18...  inclusion   \n",
       "1  NCT02796378                         Elevated blood-cholesterol  inclusion   \n",
       "2  NCT03216967  Adult patients Kidney transplant recipients Pa...  inclusion   \n",
       "3  NCT02200978  Patients less than 16 years old with newly dia...  inclusion   \n",
       "4  NCT01314898  Male and/or female healthy volunteers, age 18 ...  inclusion   \n",
       "\n",
       "                                        drugs                       persons  \\\n",
       "0                                        None                        [ages]   \n",
       "1                                        None                          None   \n",
       "2  [calcineurin inhibitor, mycophenolic acid]                       [Adult]   \n",
       "3                                        None                         [old]   \n",
       "4                                        None  [Male, female, age, Females]   \n",
       "\n",
       "  procedures                                       conditions devices visits  \\\n",
       "0       None  [gingival recession defects, recession defects]    None   None   \n",
       "1       None                                             None    None   None   \n",
       "2       None                                             None    None   None   \n",
       "3       None                   [acute promyelocytic leukemia]    None   None   \n",
       "4       None                [healthy, childbearing potential]    None   None   \n",
       "\n",
       "  scopes                                  observations  \\\n",
       "0   None  [cervical restorations extending to the CEJ]   \n",
       "1   None                                          None   \n",
       "2   None                                          None   \n",
       "3   None                                          None   \n",
       "4   None                                          None   \n",
       "\n",
       "                                    measurements  \n",
       "0       [recession, keratinized gingiva, Miller]  \n",
       "1                            [blood-cholesterol]  \n",
       "2  [Viremia, pregnancy test, blood ß-HCG dosage]  \n",
       "3                                     [PML-RARa]  \n",
       "4     [Body Mass Index (BMI), total body weight]  "
      ]
     },
     "execution_count": null,
     "metadata": {},
     "output_type": "execute_result"
    }
   ],
   "source": [
    "df.head()"
   ]
  },
  {
   "cell_type": "code",
   "execution_count": null,
   "metadata": {},
   "outputs": [
    {
     "data": {
      "text/plain": [
       "Index(['ct_no', 'criteria', 'mode', 'drugs', 'persons', 'procedures',\n",
       "       'conditions', 'devices', 'visits', 'scopes', 'observations',\n",
       "       'measurements'],\n",
       "      dtype='object')"
      ]
     },
     "execution_count": null,
     "metadata": {},
     "output_type": "execute_result"
    }
   ],
   "source": [
    "df.columns"
   ]
  },
  {
   "cell_type": "code",
   "execution_count": null,
   "metadata": {},
   "outputs": [
    {
     "data": {
      "text/plain": [
       "(2000, 12)"
      ]
     },
     "execution_count": null,
     "metadata": {},
     "output_type": "execute_result"
    }
   ],
   "source": [
    "df.shape"
   ]
  },
  {
   "cell_type": "markdown",
   "metadata": {},
   "source": [
    "A simple function can compute the metric of entity coverage"
   ]
  },
  {
   "cell_type": "code",
   "execution_count": null,
   "metadata": {},
   "outputs": [
    {
     "data": {
      "text/markdown": [
       "---\n",
       "\n",
       "[source](https://github.com/Mikołaj Morzy/eligibility_criteria_parser/blob/main/eligibility_criteria_parser/core.py#LNone){target=\"_blank\" style=\"float:right; font-size:smaller\"}\n",
       "\n",
       "### entity_coverage\n",
       "\n",
       ">      entity_coverage (ents_true:List[str], ents_pred:List[str], mode:str,\n",
       ">                       threshold:float=0.0)\n",
       "\n",
       "Compute the compound metric of entity coverage in eligibility criteria\n",
       "\n",
       "Args:\n",
       "\n",
       "    ents_true: entities from Chia annotations\n",
       "\n",
       "    ents_pred: predicted entities\n",
       "\n",
       "    mode: which version of Jaccard coefficient to use\n",
       "\n",
       "    threshold: only matches with Jaccard coefficient above the threshold will count as non-zero\n",
       "\n",
       "For each entity in a criterion, find the predicted entity which maximizes the Jaccard score and\n",
       "return the average Jaccard score for matched entities and the percentage of entites for which\n",
       "any matching has been found"
      ],
      "text/plain": [
       "---\n",
       "\n",
       "[source](https://github.com/Mikołaj Morzy/eligibility_criteria_parser/blob/main/eligibility_criteria_parser/core.py#LNone){target=\"_blank\" style=\"float:right; font-size:smaller\"}\n",
       "\n",
       "### entity_coverage\n",
       "\n",
       ">      entity_coverage (ents_true:List[str], ents_pred:List[str], mode:str,\n",
       ">                       threshold:float=0.0)\n",
       "\n",
       "Compute the compound metric of entity coverage in eligibility criteria\n",
       "\n",
       "Args:\n",
       "\n",
       "    ents_true: entities from Chia annotations\n",
       "\n",
       "    ents_pred: predicted entities\n",
       "\n",
       "    mode: which version of Jaccard coefficient to use\n",
       "\n",
       "    threshold: only matches with Jaccard coefficient above the threshold will count as non-zero\n",
       "\n",
       "For each entity in a criterion, find the predicted entity which maximizes the Jaccard score and\n",
       "return the average Jaccard score for matched entities and the percentage of entites for which\n",
       "any matching has been found"
      ]
     },
     "execution_count": null,
     "metadata": {},
     "output_type": "execute_result"
    }
   ],
   "source": [
    "from nbdev import show_doc\n",
    "\n",
    "show_doc(entity_coverage)"
   ]
  },
  {
   "cell_type": "code",
   "execution_count": null,
   "metadata": {},
   "outputs": [],
   "source": [
    "ents_true = ['adult', 'no alcohol substance abuse', 'cardiovascular disease', 'elevated cholesterol']\n",
    "ents_pred = ['adult man or woman', 'no alcohol usage during last year', 'high blood pressure']"
   ]
  },
  {
   "cell_type": "code",
   "execution_count": null,
   "metadata": {},
   "outputs": [
    {
     "data": {
      "text/plain": [
       "(0.25, 0.5)"
      ]
     },
     "execution_count": null,
     "metadata": {},
     "output_type": "execute_result"
    }
   ],
   "source": [
    "entity_coverage(ents_true=ents_true, ents_pred=ents_pred, mode=\"strict\")"
   ]
  },
  {
   "cell_type": "code",
   "execution_count": null,
   "metadata": {},
   "outputs": [
    {
     "data": {
      "text/plain": [
       "(0.75, 0.5)"
      ]
     },
     "execution_count": null,
     "metadata": {},
     "output_type": "execute_result"
    }
   ],
   "source": [
    "entity_coverage(ents_true=ents_true, ents_pred=ents_pred, mode=\"relaxed\")"
   ]
  },
  {
   "cell_type": "code",
   "execution_count": null,
   "metadata": {},
   "outputs": [
    {
     "data": {
      "text/plain": [
       "(0.75, 0.5)"
      ]
     },
     "execution_count": null,
     "metadata": {},
     "output_type": "execute_result"
    }
   ],
   "source": [
    "entity_coverage(ents_true=ents_true, ents_pred=ents_pred, mode=\"left\")"
   ]
  },
  {
   "cell_type": "code",
   "execution_count": null,
   "metadata": {},
   "outputs": [
    {
     "data": {
      "text/plain": [
       "(0.29166666666666663, 0.5)"
      ]
     },
     "execution_count": null,
     "metadata": {},
     "output_type": "execute_result"
    }
   ],
   "source": [
    "entity_coverage(ents_true=ents_true, ents_pred=ents_pred, mode=\"right\")"
   ]
  },
  {
   "cell_type": "code",
   "execution_count": null,
   "metadata": {},
   "outputs": [],
   "source": [
    "#| hide\n",
    "import nbdev; nbdev.nbdev_export()"
   ]
  },
  {
   "cell_type": "code",
   "execution_count": null,
   "metadata": {},
   "outputs": [],
   "source": []
  }
 ],
 "metadata": {
  "kernelspec": {
   "display_name": "Python 3 (ipykernel)",
   "language": "python",
   "name": "python3"
  }
 },
 "nbformat": 4,
 "nbformat_minor": 4
}
