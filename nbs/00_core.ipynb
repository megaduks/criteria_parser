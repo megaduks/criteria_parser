{
 "cells": [
  {
   "cell_type": "markdown",
   "metadata": {},
   "source": [
    "# core\n",
    "\n",
    "> Contains functions to read and parse information from the Chia dataset"
   ]
  },
  {
   "cell_type": "code",
   "execution_count": null,
   "metadata": {},
   "outputs": [],
   "source": [
    "#| default_exp core"
   ]
  },
  {
   "cell_type": "code",
   "execution_count": null,
   "metadata": {},
   "outputs": [],
   "source": [
    "#| hide\n",
    "from nbdev.showdoc import *\n",
    "from fastcore.test import *"
   ]
  },
  {
   "cell_type": "code",
   "execution_count": null,
   "metadata": {},
   "outputs": [],
   "source": [
    "#| export\n",
    "import pandas as pd\n",
    "import numpy as np\n",
    "\n",
    "from pathlib import Path\n",
    "from typing import List"
   ]
  },
  {
   "cell_type": "code",
   "execution_count": null,
   "metadata": {},
   "outputs": [
    {
     "name": "stdout",
     "output_type": "stream",
     "text": [
      "[entities]\r\n",
      "!CONCEPTS\r\n",
      "\tScope\r\n",
      "\tPerson\r\n",
      "\tCondition\r\n",
      "\tDrug\r\n",
      "\tObservation\r\n",
      "\tMeasurement\r\n",
      "\tProcedure\r\n",
      "\tDevice\r\n",
      "\tVisit\r\n",
      "!ANNOTATION\r\n",
      "\tNegation\r\n",
      "\tQualifier\r\n",
      "\tTemporal\r\n",
      "\tValue\r\n",
      "\tMultiplier\r\n",
      "\tReference_point\r\n",
      "\tLine\r\n",
      "\tMood\r\n",
      "!ERROR\r\n",
      "\tNon-query-able\r\n",
      "\tPost-eligibility\r\n",
      "\tPregnancy_considerations\r\n",
      "\tCompeting_trial\r\n",
      "\tInformed_consent\r\n",
      "\tIntoxication_considerations\r\n",
      "\tNon-representable\r\n",
      "\r\n",
      "[events]\r\n",
      "\r\n",
      "[relations]\r\n",
      "h-OR   Arg1:<ENTITY>, Arg2:<ENTITY>, <REL-TYPE>:symmetric-transitive\r\n",
      "v-AND Arg1:<ANY>, Arg2:<ANY>\r\n",
      "v-OR Arg1:<ANY>, Arg2:<ANY>\r\n",
      "multi Arg1:<ANY>, Arg2:<ANY>\r\n",
      "<OVERLAP>\tArg1:<ANY>, Arg2:<ANY>, <OVL-TYPE>:<ANY>\r\n",
      "\r\n",
      "[attributes]\r\n",
      "Optional   Arg:<ANY>\r\n",
      " "
     ]
    }
   ],
   "source": [
    "#| hide\n",
    "!cat data/annotation.conf"
   ]
  },
  {
   "cell_type": "code",
   "execution_count": null,
   "metadata": {},
   "outputs": [],
   "source": [
    "#| export\n",
    "def load_eligibility_criteria() -> pd.DataFrame:\n",
    "    \n",
    "    _lst = []\n",
    "    \n",
    "    ent_map = {\n",
    "        \"drugs\": \"Drug\", \n",
    "        \"persons\": \"Person\", \n",
    "        \"procedures\": \"Proceure\", \n",
    "        \"conditions\": \"Condition\",\n",
    "        \"devices\": \"Device\",\n",
    "        \"visits\": \"Visit\",\n",
    "        \"scopes\": \"Scope\",\n",
    "        \"observations\": \"Observation\",\n",
    "        \"measurements\": \"Measurement\",\n",
    "    }\n",
    "    \n",
    "    for mode in [\"_inc\", \"_exc\"]:\n",
    "        \n",
    "        criteria_files = Path(\"data\").glob(f\"*{mode}.txt\")\n",
    "\n",
    "        for f in criteria_files:\n",
    "            clinical_trial_no = str(f).lstrip(\"data/\").rstrip(f\"{mode}.txt\")\n",
    "\n",
    "            with open(f, \"rt\") as f:\n",
    "                criteria = \" \".join(f.read().splitlines())\n",
    "                \n",
    "            _rec = {}\n",
    "\n",
    "            _rec[\"ct_no\"] = clinical_trial_no\n",
    "            _rec[\"criteria\"] = criteria\n",
    "            _rec[\"mode\"] = \"inclusion\" if mode == \"_inc\" else \"exclusion\"\n",
    "\n",
    "            for e in ent_map:\n",
    "                ents = extract_entities(clinical_trial_no, mode, ent_map[e])\n",
    "                _rec[e] = ents if ents else None\n",
    "\n",
    "            _lst.append(_rec)\n",
    "        \n",
    "    return pd.DataFrame(_lst)"
   ]
  },
  {
   "cell_type": "code",
   "execution_count": null,
   "metadata": {},
   "outputs": [],
   "source": [
    "#| export\n",
    "def extract_entities(ct: str, mode: str, e: str) -> List:\n",
    "    entities = []\n",
    "    \n",
    "    with open(f\"data/{ct}{mode}.ann\", \"rt\") as f:\n",
    "        data = f.read().splitlines()\n",
    "        \n",
    "    for row in data:\n",
    "        if e in row:\n",
    "            entities.append(\" \".join(row.split()[4:]))\n",
    "\n",
    "    return entities"
   ]
  },
  {
   "cell_type": "code",
   "execution_count": null,
   "metadata": {},
   "outputs": [],
   "source": [
    "#| hide\n",
    "df = load_eligibility_criteria()\n",
    "nrow, ncol = df.shape\n",
    "\n",
    "test_eq(nrow, 2000)\n",
    "test_eq(ncol, 12)"
   ]
  },
  {
   "cell_type": "code",
   "execution_count": null,
   "metadata": {},
   "outputs": [],
   "source": [
    "#| hide\n",
    "import nbdev; nbdev.nbdev_export()"
   ]
  },
  {
   "cell_type": "code",
   "execution_count": null,
   "metadata": {},
   "outputs": [],
   "source": []
  }
 ],
 "metadata": {
  "kernelspec": {
   "display_name": "Python 3 (ipykernel)",
   "language": "python",
   "name": "python3"
  }
 },
 "nbformat": 4,
 "nbformat_minor": 4
}
